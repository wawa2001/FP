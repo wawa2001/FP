{
 "cells": [
  {
   "cell_type": "markdown",
   "metadata": {},
   "source": [
    "# Final Project\n",
    "By: Urjeet Deshmukh, Hosea Wah, and Peiyi Wu\n",
    "\n",
    "----"
   ]
  },
  {
   "cell_type": "markdown",
   "metadata": {},
   "source": [
    "### Introduction\n",
    "We have decided to analyze each neighborhood based on several factors to conclude which neighborhood is indeed the \"best.\" "
   ]
  },
  {
   "cell_type": "markdown",
   "metadata": {},
   "source": [
    "#### Police Firearm Seizures - Urjeet Deshmukh\n",
    "Metric Explanation: I decided to use the metric of the number of firearms that were confiscated by police in each respective neighborhood. Seizures are associated with illegal ownership, the suspected usage of a firearm in a crime, or simply public safety maintenance. This is a proper metric to guage the \"best\" neighborhood becuase it justifies many qualities such as connection to crime and the active threat that could be possible."
   ]
  },
  {
   "cell_type": "code",
   "execution_count": 21,
   "metadata": {},
   "outputs": [],
   "source": [
    "import pandas as pd\n",
    "import numpy as np"
   ]
  },
  {
   "cell_type": "code",
   "execution_count": 34,
   "metadata": {},
   "outputs": [],
   "source": [
    "import ssl\n",
    "\n",
    "ssl._create_default_https_context = ssl._create_unverified_context"
   ]
  },
  {
   "cell_type": "markdown",
   "metadata": {},
   "source": [
    "##### Sample Data"
   ]
  },
  {
   "cell_type": "code",
   "execution_count": 35,
   "metadata": {},
   "outputs": [
    {
     "data": {
      "text/html": [
       "<div>\n",
       "<style scoped>\n",
       "    .dataframe tbody tr th:only-of-type {\n",
       "        vertical-align: middle;\n",
       "    }\n",
       "\n",
       "    .dataframe tbody tr th {\n",
       "        vertical-align: top;\n",
       "    }\n",
       "\n",
       "    .dataframe thead th {\n",
       "        text-align: right;\n",
       "    }\n",
       "</style>\n",
       "<table border=\"1\" class=\"dataframe\">\n",
       "  <thead>\n",
       "    <tr style=\"text-align: right;\">\n",
       "      <th></th>\n",
       "      <th>neighborhood</th>\n",
       "      <th>total_count</th>\n",
       "    </tr>\n",
       "  </thead>\n",
       "  <tbody>\n",
       "    <tr>\n",
       "      <th>2164</th>\n",
       "      <td>East Hills</td>\n",
       "      <td>2</td>\n",
       "    </tr>\n",
       "    <tr>\n",
       "      <th>2144</th>\n",
       "      <td>Shadyside</td>\n",
       "      <td>1</td>\n",
       "    </tr>\n",
       "    <tr>\n",
       "      <th>1232</th>\n",
       "      <td>North Shore</td>\n",
       "      <td>5</td>\n",
       "    </tr>\n",
       "    <tr>\n",
       "      <th>992</th>\n",
       "      <td>Homewood South</td>\n",
       "      <td>1</td>\n",
       "    </tr>\n",
       "    <tr>\n",
       "      <th>2563</th>\n",
       "      <td>South Oakland</td>\n",
       "      <td>1</td>\n",
       "    </tr>\n",
       "  </tbody>\n",
       "</table>\n",
       "</div>"
      ],
      "text/plain": [
       "        neighborhood  total_count\n",
       "2164      East Hills            2\n",
       "2144       Shadyside            1\n",
       "1232     North Shore            5\n",
       "992   Homewood South            1\n",
       "2563   South Oakland            1"
      ]
     },
     "execution_count": 35,
     "metadata": {},
     "output_type": "execute_result"
    }
   ],
   "source": [
    "# Import data and show a sample of 10 rows observing neighborhood\n",
    "df = pd.read_csv(\"https://data.wprdc.org/datastore/dump/e967381d-d7e9-48e3-a2a2-39262f7fa5c4\")\n",
    "simplified_data = df[['neighborhood', 'total_count']]\n",
    "simplified_data.sample(5)"
   ]
  },
  {
   "cell_type": "markdown",
   "metadata": {},
   "source": [
    "##### Total Firearms and Total Neighborhoods"
   ]
  },
  {
   "cell_type": "code",
   "execution_count": 36,
   "metadata": {},
   "outputs": [
    {
     "name": "stdout",
     "output_type": "stream",
     "text": [
      "The total amount of firearms confiscated in every neighborhood is 3757\n"
     ]
    }
   ],
   "source": [
    "# Compute total amount of firearms confiscated in every neighborhood\n",
    "total_firearms = simplified_data['total_count'].sum()\n",
    "print('The total amount of firearms confiscated in every neighborhood is', total_firearms)"
   ]
  },
  {
   "cell_type": "code",
   "execution_count": 37,
   "metadata": {},
   "outputs": [
    {
     "name": "stdout",
     "output_type": "stream",
     "text": [
      "There are a total of 88 different neighborhoods\n"
     ]
    }
   ],
   "source": [
    "total_neighborhoods = len(simplified_data['neighborhood'].unique())\n",
    "print('There are a total of', total_neighborhoods, 'different neighborhoods')"
   ]
  },
  {
   "cell_type": "markdown",
   "metadata": {},
   "source": [
    "##### Descending and Ascending Data Regarding Amount of Firearms Seized"
   ]
  },
  {
   "cell_type": "code",
   "execution_count": 38,
   "metadata": {},
   "outputs": [
    {
     "data": {
      "text/plain": [
       "Homewood South               158\n",
       "South Side Flats             110\n",
       "Larimer                       88\n",
       "Homewood North                86\n",
       "Hazelwood                     80\n",
       "Marshall-Shadeland            75\n",
       "Carrick                       75\n",
       "Perry South                   73\n",
       "Sheraden                      72\n",
       "Central Business District     71\n",
       "Name: neighborhood, dtype: int64"
      ]
     },
     "execution_count": 38,
     "metadata": {},
     "output_type": "execute_result"
    }
   ],
   "source": [
    "final_data_descending = simplified_data['neighborhood'].value_counts()\n",
    "final_data_descending.head(10)"
   ]
  },
  {
   "cell_type": "code",
   "execution_count": 39,
   "metadata": {},
   "outputs": [
    {
     "data": {
      "text/plain": [
       "<matplotlib.axes._subplots.AxesSubplot at 0x7f89d7aa2160>"
      ]
     },
     "execution_count": 39,
     "metadata": {},
     "output_type": "execute_result"
    },
    {
     "data": {
      "image/png": "[encoded data removed]",
      "text/plain": [
       "<Figure size 432x288 with 1 Axes>"
      ]
     },
     "metadata": {
      "needs_background": "light"
     },
     "output_type": "display_data"
    }
   ],
   "source": [
    "import matplotlib.pyplot as plt\n",
    "final_data_descending.head(10).plot.bar()"
   ]
  },
  {
   "cell_type": "code",
   "execution_count": 40,
   "metadata": {},
   "outputs": [
    {
     "data": {
      "text/plain": [
       "Lincoln Place     1\n",
       "Oakwood           2\n",
       "Esplen            2\n",
       "West End          2\n",
       "Mt. Oliver        2\n",
       "Summer Hill       2\n",
       "Regent Square     3\n",
       "Chartiers City    3\n",
       "Friendship        3\n",
       "Hays              3\n",
       "Name: neighborhood, dtype: int64"
      ]
     },
     "execution_count": 40,
     "metadata": {},
     "output_type": "execute_result"
    }
   ],
   "source": [
    "final_data_ascending = simplified_data['neighborhood'].value_counts().sort_values(ascending = True)\n",
    "final_data_ascending.head(10)"
   ]
  },
  {
   "cell_type": "code",
   "execution_count": 41,
   "metadata": {},
   "outputs": [
    {
     "data": {
      "text/plain": [
       "<matplotlib.axes._subplots.AxesSubplot at 0x7f89d7a93c88>"
      ]
     },
     "execution_count": 41,
     "metadata": {},
     "output_type": "execute_result"
    },
    {
     "data": {
      "image/png": "[encoded data removed]",
      "text/plain": [
       "<Figure size 432x288 with 1 Axes>"
      ]
     },
     "metadata": {
      "needs_background": "light"
     },
     "output_type": "display_data"
    }
   ],
   "source": [
    "import matplotlib.pyplot as plt\n",
    "final_data_ascending.head(10).plot.bar()"
   ]
  },
  {
   "cell_type": "markdown",
   "metadata": {},
   "source": [
    "#### Urjeet Deshmukh's Metric Final Analysis\n",
    "Metric 1: I measured the amount of firearms seized per neighborhood. It is important to remember this is the data of firearms seized due to wrongful holdings rather than legal possession of a firearm. I narrowed my data set to only show the certain neighborhoods and total amount of firearms seized. I split my data to show the top 10 and bottom 10 following ascending and descending methods. According to the data analyzed, Lincoln Place is the safest neighborhood as only 1 firearm was seized. Next follow the neighborhoods of Esplen, Mt. Oliver, Oakwood, Summer Hill, and West End all with 2 firearms seized in each respective neighborhood. Only according to my metric, disregarding other metrics, I deduce that Lincoln Place is the \"best\" neighborhood in terms of firearms seized.\n",
    "\n",
    "----"
   ]
  },
  {
   "cell_type": "markdown",
   "metadata": {},
   "source": [
    "#### Air Quality---Peiyi Wu\n",
    "\n",
    "I choose air quality as the material to determine the best neighborhood, because air quality determines the health of the respiratory system and affects the mood of the neighbors. My metic is the Hourly Air Quality Data in Allegheny County, the data covered include co, h2s, ozone, pm2.5 and pm1.0, so2 and many chemical element that floating in the air is harmful to the body . In this metric, I take so2 and pm2.5 as measurement criteria. Sulfur dioxide (SO2) is a colorless, reactive gas produced when sulfur-containing fuels such as coal and oil are burned. Even short-term exposure to SO2 can irritate airways and make breathing difficult, especially for sensitive groups. SO2 also contributes to smog and acid rain, which can damage plants and trees.Fine particulate matter (PM2.5) consists of a mixture of solids and liquid droplets so small they are only visible with an electron microscope. These particles can be inhaled and may contain hundreds of different chemicals - some are released into the air directly, while others form when they react with other pollutants in the atmosphere.\n",
    "The higher the number, the worse the air. So the lowest number proves the best neighbor. Cities with incomplete data were not included in the study.\n",
    "\n",
    "\n",
    "#### The main data set\n",
    "\n",
    "\n",
    "\n"
   ]
  },
  {
   "cell_type": "code",
   "execution_count": 6,
   "metadata": {},
   "outputs": [
    {
     "data": {
      "text/html": [
       "<div>\n",
       "<style scoped>\n",
       "    .dataframe tbody tr th:only-of-type {\n",
       "        vertical-align: middle;\n",
       "    }\n",
       "\n",
       "    .dataframe tbody tr th {\n",
       "        vertical-align: top;\n",
       "    }\n",
       "\n",
       "    .dataframe thead th {\n",
       "        text-align: right;\n",
       "    }\n",
       "</style>\n",
       "<table border=\"1\" class=\"dataframe\">\n",
       "  <thead>\n",
       "    <tr style=\"text-align: right;\">\n",
       "      <th></th>\n",
       "      <th>datetime</th>\n",
       "      <th>bcstat</th>\n",
       "      <th>bcstat_txt</th>\n",
       "      <th>bp</th>\n",
       "      <th>bp_txt</th>\n",
       "      <th>co</th>\n",
       "      <th>co_txt</th>\n",
       "      <th>h2s</th>\n",
       "      <th>h2s_txt</th>\n",
       "      <th>int_t</th>\n",
       "      <th>...</th>\n",
       "      <th>sonicws</th>\n",
       "      <th>sonicws_txt</th>\n",
       "      <th>uvpm</th>\n",
       "      <th>uvpm_txt</th>\n",
       "      <th>rainfall</th>\n",
       "      <th>rainfall_txt</th>\n",
       "      <th>solarrad</th>\n",
       "      <th>solarrad_txt</th>\n",
       "      <th>uv_rad</th>\n",
       "      <th>uv_rad_txt</th>\n",
       "    </tr>\n",
       "    <tr>\n",
       "      <th>site</th>\n",
       "      <th></th>\n",
       "      <th></th>\n",
       "      <th></th>\n",
       "      <th></th>\n",
       "      <th></th>\n",
       "      <th></th>\n",
       "      <th></th>\n",
       "      <th></th>\n",
       "      <th></th>\n",
       "      <th></th>\n",
       "      <th></th>\n",
       "      <th></th>\n",
       "      <th></th>\n",
       "      <th></th>\n",
       "      <th></th>\n",
       "      <th></th>\n",
       "      <th></th>\n",
       "      <th></th>\n",
       "      <th></th>\n",
       "      <th></th>\n",
       "      <th></th>\n",
       "    </tr>\n",
       "  </thead>\n",
       "  <tbody>\n",
       "    <tr>\n",
       "      <th>Avalon</th>\n",
       "      <td>2016-01-30T00:00:00</td>\n",
       "      <td>NaN</td>\n",
       "      <td>NaN</td>\n",
       "      <td>NaN</td>\n",
       "      <td>NaN</td>\n",
       "      <td>NaN</td>\n",
       "      <td>NaN</td>\n",
       "      <td>NaN</td>\n",
       "      <td>D</td>\n",
       "      <td>23.1</td>\n",
       "      <td>...</td>\n",
       "      <td>2.2</td>\n",
       "      <td>NaN</td>\n",
       "      <td>NaN</td>\n",
       "      <td>NaN</td>\n",
       "      <td>NaN</td>\n",
       "      <td>NaN</td>\n",
       "      <td>NaN</td>\n",
       "      <td>NaN</td>\n",
       "      <td>NaN</td>\n",
       "      <td>NaN</td>\n",
       "    </tr>\n",
       "    <tr>\n",
       "      <th>Avalon</th>\n",
       "      <td>2016-01-15T00:00:00</td>\n",
       "      <td>NaN</td>\n",
       "      <td>NaN</td>\n",
       "      <td>NaN</td>\n",
       "      <td>NaN</td>\n",
       "      <td>NaN</td>\n",
       "      <td>NaN</td>\n",
       "      <td>0.0</td>\n",
       "      <td>C</td>\n",
       "      <td>25.7</td>\n",
       "      <td>...</td>\n",
       "      <td>1.9</td>\n",
       "      <td>NaN</td>\n",
       "      <td>NaN</td>\n",
       "      <td>NaN</td>\n",
       "      <td>NaN</td>\n",
       "      <td>NaN</td>\n",
       "      <td>NaN</td>\n",
       "      <td>NaN</td>\n",
       "      <td>NaN</td>\n",
       "      <td>NaN</td>\n",
       "    </tr>\n",
       "    <tr>\n",
       "      <th>Avalon</th>\n",
       "      <td>2016-01-15T01:00:00</td>\n",
       "      <td>NaN</td>\n",
       "      <td>NaN</td>\n",
       "      <td>NaN</td>\n",
       "      <td>NaN</td>\n",
       "      <td>NaN</td>\n",
       "      <td>NaN</td>\n",
       "      <td>0.0</td>\n",
       "      <td>C</td>\n",
       "      <td>25.8</td>\n",
       "      <td>...</td>\n",
       "      <td>2.5</td>\n",
       "      <td>NaN</td>\n",
       "      <td>NaN</td>\n",
       "      <td>NaN</td>\n",
       "      <td>NaN</td>\n",
       "      <td>NaN</td>\n",
       "      <td>NaN</td>\n",
       "      <td>NaN</td>\n",
       "      <td>NaN</td>\n",
       "      <td>NaN</td>\n",
       "    </tr>\n",
       "    <tr>\n",
       "      <th>Avalon</th>\n",
       "      <td>2016-01-15T02:00:00</td>\n",
       "      <td>NaN</td>\n",
       "      <td>NaN</td>\n",
       "      <td>NaN</td>\n",
       "      <td>NaN</td>\n",
       "      <td>NaN</td>\n",
       "      <td>NaN</td>\n",
       "      <td>0.0</td>\n",
       "      <td>NaN</td>\n",
       "      <td>25.6</td>\n",
       "      <td>...</td>\n",
       "      <td>1.9</td>\n",
       "      <td>NaN</td>\n",
       "      <td>NaN</td>\n",
       "      <td>NaN</td>\n",
       "      <td>NaN</td>\n",
       "      <td>NaN</td>\n",
       "      <td>NaN</td>\n",
       "      <td>NaN</td>\n",
       "      <td>NaN</td>\n",
       "      <td>NaN</td>\n",
       "    </tr>\n",
       "    <tr>\n",
       "      <th>Avalon</th>\n",
       "      <td>2016-01-15T03:00:00</td>\n",
       "      <td>NaN</td>\n",
       "      <td>NaN</td>\n",
       "      <td>NaN</td>\n",
       "      <td>NaN</td>\n",
       "      <td>NaN</td>\n",
       "      <td>NaN</td>\n",
       "      <td>0.0</td>\n",
       "      <td>NaN</td>\n",
       "      <td>25.6</td>\n",
       "      <td>...</td>\n",
       "      <td>2.3</td>\n",
       "      <td>NaN</td>\n",
       "      <td>NaN</td>\n",
       "      <td>NaN</td>\n",
       "      <td>NaN</td>\n",
       "      <td>NaN</td>\n",
       "      <td>NaN</td>\n",
       "      <td>NaN</td>\n",
       "      <td>NaN</td>\n",
       "      <td>NaN</td>\n",
       "    </tr>\n",
       "  </tbody>\n",
       "</table>\n",
       "<p>5 rows × 69 columns</p>\n",
       "</div>"
      ],
      "text/plain": [
       "                   datetime  bcstat bcstat_txt  bp bp_txt  co co_txt  h2s  \\\n",
       "site                                                                        \n",
       "Avalon  2016-01-30T00:00:00     NaN        NaN NaN    NaN NaN    NaN  NaN   \n",
       "Avalon  2016-01-15T00:00:00     NaN        NaN NaN    NaN NaN    NaN  0.0   \n",
       "Avalon  2016-01-15T01:00:00     NaN        NaN NaN    NaN NaN    NaN  0.0   \n",
       "Avalon  2016-01-15T02:00:00     NaN        NaN NaN    NaN NaN    NaN  0.0   \n",
       "Avalon  2016-01-15T03:00:00     NaN        NaN NaN    NaN NaN    NaN  0.0   \n",
       "\n",
       "       h2s_txt  int_t  ... sonicws  sonicws_txt uvpm  uvpm_txt rainfall  \\\n",
       "site                   ...                                                \n",
       "Avalon      D    23.1  ...     2.2          NaN  NaN       NaN      NaN   \n",
       "Avalon      C    25.7  ...     1.9          NaN  NaN       NaN      NaN   \n",
       "Avalon      C    25.8  ...     2.5          NaN  NaN       NaN      NaN   \n",
       "Avalon     NaN   25.6  ...     1.9          NaN  NaN       NaN      NaN   \n",
       "Avalon     NaN   25.6  ...     2.3          NaN  NaN       NaN      NaN   \n",
       "\n",
       "        rainfall_txt solarrad  solarrad_txt uv_rad  uv_rad_txt  \n",
       "site                                                            \n",
       "Avalon           NaN      NaN           NaN    NaN         NaN  \n",
       "Avalon           NaN      NaN           NaN    NaN         NaN  \n",
       "Avalon           NaN      NaN           NaN    NaN         NaN  \n",
       "Avalon           NaN      NaN           NaN    NaN         NaN  \n",
       "Avalon           NaN      NaN           NaN    NaN         NaN  \n",
       "\n",
       "[5 rows x 69 columns]"
      ]
     },
     "execution_count": 6,
     "metadata": {},
     "output_type": "execute_result"
    }
   ],
   "source": [
    "import pandas as pd\n",
    "import numpy as np\n",
    "\n",
    "import ssl\n",
    "\n",
    "ssl._create_default_https_context = ssl._create_unverified_context\n",
    "\n",
    "pgh_AirQuality_data = pd.read_csv(\"https://data.wprdc.org/datastore/dump/15d7dbf6-cb3b-407b-ae01-325352deed5c\",\n",
    "                               index_col=\"site\",\n",
    "                               parse_dates=True)\n",
    "pgh_AirQuality_data.head()"
   ]
  },
  {
   "cell_type": "markdown",
   "metadata": {},
   "source": [
    "### THe describe for the Data that focus on SO2 and PM2.5\n",
    "Some Numbers are negative because the instrument uses standard gases for comparison.\n",
    "From this data set, we can observe that the influence of so2 is not obvious in different neighborhood, while pm2.5 has a large range：is considered moderate when the value exceeds 50； Anything from 100 to 150 is unhealthy for sensitive group；and anything above 150 is unhealthy.\n"
   ]
  },
  {
   "cell_type": "code",
   "execution_count": 23,
   "metadata": {},
   "outputs": [
    {
     "data": {
      "text/html": [
       "<div>\n",
       "<style scoped>\n",
       "    .dataframe tbody tr th:only-of-type {\n",
       "        vertical-align: middle;\n",
       "    }\n",
       "\n",
       "    .dataframe tbody tr th {\n",
       "        vertical-align: top;\n",
       "    }\n",
       "\n",
       "    .dataframe thead th {\n",
       "        text-align: right;\n",
       "    }\n",
       "</style>\n",
       "<table border=\"1\" class=\"dataframe\">\n",
       "  <thead>\n",
       "    <tr style=\"text-align: right;\">\n",
       "      <th></th>\n",
       "      <th>so2</th>\n",
       "      <th>pm25</th>\n",
       "    </tr>\n",
       "  </thead>\n",
       "  <tbody>\n",
       "    <tr>\n",
       "      <th>count</th>\n",
       "      <td>197278.000000</td>\n",
       "      <td>63490.000000</td>\n",
       "    </tr>\n",
       "    <tr>\n",
       "      <th>mean</th>\n",
       "      <td>0.001351</td>\n",
       "      <td>11.782155</td>\n",
       "    </tr>\n",
       "    <tr>\n",
       "      <th>std</th>\n",
       "      <td>0.004397</td>\n",
       "      <td>12.295519</td>\n",
       "    </tr>\n",
       "    <tr>\n",
       "      <th>min</th>\n",
       "      <td>-0.001000</td>\n",
       "      <td>-4.000000</td>\n",
       "    </tr>\n",
       "    <tr>\n",
       "      <th>25%</th>\n",
       "      <td>0.000000</td>\n",
       "      <td>5.000000</td>\n",
       "    </tr>\n",
       "    <tr>\n",
       "      <th>50%</th>\n",
       "      <td>0.000000</td>\n",
       "      <td>8.000000</td>\n",
       "    </tr>\n",
       "    <tr>\n",
       "      <th>75%</th>\n",
       "      <td>0.001000</td>\n",
       "      <td>14.000000</td>\n",
       "    </tr>\n",
       "    <tr>\n",
       "      <th>max</th>\n",
       "      <td>0.171000</td>\n",
       "      <td>197.000000</td>\n",
       "    </tr>\n",
       "  </tbody>\n",
       "</table>\n",
       "</div>"
      ],
      "text/plain": [
       "                 so2          pm25\n",
       "count  197278.000000  63490.000000\n",
       "mean        0.001351     11.782155\n",
       "std         0.004397     12.295519\n",
       "min        -0.001000     -4.000000\n",
       "25%         0.000000      5.000000\n",
       "50%         0.000000      8.000000\n",
       "75%         0.001000     14.000000\n",
       "max         0.171000    197.000000"
      ]
     },
     "execution_count": 23,
     "metadata": {},
     "output_type": "execute_result"
    }
   ],
   "source": [
    "ssl._create_default_https_context = ssl._create_unverified_context\n",
    "df = pd.read_csv(\"https://data.wprdc.org/datastore/dump/15d7dbf6-cb3b-407b-ae01-325352deed5c\")\n",
    "simplified_data = df[['site', 'so2','pm25']]\n",
    "simplified_data.describe()"
   ]
  },
  {
   "cell_type": "code",
   "execution_count": 8,
   "metadata": {},
   "outputs": [
    {
     "data": {
      "text/html": [
       "<div>\n",
       "<style scoped>\n",
       "    .dataframe tbody tr th:only-of-type {\n",
       "        vertical-align: middle;\n",
       "    }\n",
       "\n",
       "    .dataframe tbody tr th {\n",
       "        vertical-align: top;\n",
       "    }\n",
       "\n",
       "    .dataframe thead th {\n",
       "        text-align: right;\n",
       "    }\n",
       "</style>\n",
       "<table border=\"1\" class=\"dataframe\">\n",
       "  <thead>\n",
       "    <tr style=\"text-align: right;\">\n",
       "      <th></th>\n",
       "      <th>so2</th>\n",
       "      <th>pm25</th>\n",
       "    </tr>\n",
       "    <tr>\n",
       "      <th>site</th>\n",
       "      <th></th>\n",
       "      <th></th>\n",
       "    </tr>\n",
       "  </thead>\n",
       "  <tbody>\n",
       "    <tr>\n",
       "      <th>Avalon</th>\n",
       "      <td>0.000177</td>\n",
       "      <td>NaN</td>\n",
       "    </tr>\n",
       "    <tr>\n",
       "      <th>Clairton</th>\n",
       "      <td>0.001251</td>\n",
       "      <td>NaN</td>\n",
       "    </tr>\n",
       "    <tr>\n",
       "      <th>Flag Plaza</th>\n",
       "      <td>NaN</td>\n",
       "      <td>NaN</td>\n",
       "    </tr>\n",
       "    <tr>\n",
       "      <th>Glassport High Street</th>\n",
       "      <td>NaN</td>\n",
       "      <td>NaN</td>\n",
       "    </tr>\n",
       "    <tr>\n",
       "      <th>Harrison Township</th>\n",
       "      <td>NaN</td>\n",
       "      <td>NaN</td>\n",
       "    </tr>\n",
       "    <tr>\n",
       "      <th>Lawrenceville</th>\n",
       "      <td>NaN</td>\n",
       "      <td>NaN</td>\n",
       "    </tr>\n",
       "    <tr>\n",
       "      <th>Lawrenceville 2</th>\n",
       "      <td>0.000604</td>\n",
       "      <td>NaN</td>\n",
       "    </tr>\n",
       "    <tr>\n",
       "      <th>Liberty</th>\n",
       "      <td>0.003935</td>\n",
       "      <td>NaN</td>\n",
       "    </tr>\n",
       "    <tr>\n",
       "      <th>Liberty 2</th>\n",
       "      <td>NaN</td>\n",
       "      <td>10.229342</td>\n",
       "    </tr>\n",
       "    <tr>\n",
       "      <th>Lincoln</th>\n",
       "      <td>NaN</td>\n",
       "      <td>12.951730</td>\n",
       "    </tr>\n",
       "    <tr>\n",
       "      <th>North Braddock</th>\n",
       "      <td>0.001597</td>\n",
       "      <td>NaN</td>\n",
       "    </tr>\n",
       "    <tr>\n",
       "      <th>Parkway East</th>\n",
       "      <td>NaN</td>\n",
       "      <td>NaN</td>\n",
       "    </tr>\n",
       "    <tr>\n",
       "      <th>Parkway East (Near Road)</th>\n",
       "      <td>NaN</td>\n",
       "      <td>NaN</td>\n",
       "    </tr>\n",
       "    <tr>\n",
       "      <th>South Fayette</th>\n",
       "      <td>0.000548</td>\n",
       "      <td>NaN</td>\n",
       "    </tr>\n",
       "    <tr>\n",
       "      <th>West Mifflin</th>\n",
       "      <td>0.000720</td>\n",
       "      <td>NaN</td>\n",
       "    </tr>\n",
       "  </tbody>\n",
       "</table>\n",
       "</div>"
      ],
      "text/plain": [
       "                               so2       pm25\n",
       "site                                         \n",
       "Avalon                    0.000177        NaN\n",
       "Clairton                  0.001251        NaN\n",
       "Flag Plaza                     NaN        NaN\n",
       "Glassport High Street          NaN        NaN\n",
       "Harrison Township              NaN        NaN\n",
       "Lawrenceville                  NaN        NaN\n",
       "Lawrenceville 2           0.000604        NaN\n",
       "Liberty                   0.003935        NaN\n",
       "Liberty 2                      NaN  10.229342\n",
       "Lincoln                        NaN  12.951730\n",
       "North Braddock            0.001597        NaN\n",
       "Parkway East                   NaN        NaN\n",
       "Parkway East (Near Road)       NaN        NaN\n",
       "South Fayette             0.000548        NaN\n",
       "West Mifflin              0.000720        NaN"
      ]
     },
     "execution_count": 8,
     "metadata": {},
     "output_type": "execute_result"
    }
   ],
   "source": [
    "# Compare the average for each city\n",
    "pgh_AirQuality_data.groupby(['site'])['so2','pm25'].mean()"
   ]
  },
  {
   "cell_type": "markdown",
   "metadata": {},
   "source": [
    "#### The bar graph for the average of so2"
   ]
  },
  {
   "cell_type": "code",
   "execution_count": 9,
   "metadata": {},
   "outputs": [
    {
     "data": {
      "image/png": "[encoded data removed]",
      "text/plain": [
       "<Figure size 432x288 with 1 Axes>"
      ]
     },
     "metadata": {
      "needs_background": "light"
     },
     "output_type": "display_data"
    }
   ],
   "source": [
    "# THe bar graph of \n",
    "mn1=pgh_AirQuality_data.groupby(['site'])['so2'].mean()\n",
    "mn1.plot .bar();"
   ]
  },
  {
   "cell_type": "markdown",
   "metadata": {},
   "source": [
    "#### The bar graph for the average of PM 2.5"
   ]
  },
  {
   "cell_type": "code",
   "execution_count": 10,
   "metadata": {},
   "outputs": [
    {
     "data": {
      "image/png": "[encoded data removed]",
      "text/plain": [
       "<Figure size 432x288 with 1 Axes>"
      ]
     },
     "metadata": {
      "needs_background": "light"
     },
     "output_type": "display_data"
    }
   ],
   "source": [
    "mn2=pgh_AirQuality_data.groupby(['site'])['pm25'].mean()\n",
    "mn2.plot.bar();"
   ]
  },
  {
   "cell_type": "markdown",
   "metadata": {},
   "source": [
    "# Urjeet，i dont think lincln can be the best neberhood any more but youcan say if only consider so2 lincoln is still the best. "
   ]
  },
  {
   "cell_type": "raw",
   "metadata": {},
   "source": [
    "Hosea Wah -- Commuting to work "
   ]
  },
  {
   "cell_type": "code",
   "execution_count": 2,
   "metadata": {},
   "outputs": [],
   "source": [
    "import pandas as pd \n",
    "import numpy as np\n"
   ]
  },
  {
   "cell_type": "raw",
   "metadata": {},
   "source": [
    "Metric Explanation: The Metric I used to determine the best neighborhood in Pittsburgh is the number of \n",
    "Carpooling rates by each neighborhood. I figured it would be logical to use this metric out of the other means of transporation to work because it coressponds with how environmental friendly each neghborhood is considering that carpooling is much more sustainable for the earth.  "
   ]
  },
  {
   "cell_type": "code",
   "execution_count": 3,
   "metadata": {},
   "outputs": [
    {
     "data": {
      "text/html": [
       "<div>\n",
       "<style scoped>\n",
       "    .dataframe tbody tr th:only-of-type {\n",
       "        vertical-align: middle;\n",
       "    }\n",
       "\n",
       "    .dataframe tbody tr th {\n",
       "        vertical-align: top;\n",
       "    }\n",
       "\n",
       "    .dataframe thead th {\n",
       "        text-align: right;\n",
       "    }\n",
       "</style>\n",
       "<table border=\"1\" class=\"dataframe\">\n",
       "  <thead>\n",
       "    <tr style=\"text-align: right;\">\n",
       "      <th></th>\n",
       "      <th>Neighborhood</th>\n",
       "      <th>Sector #</th>\n",
       "      <th>Population (2010)</th>\n",
       "      <th>Miles of Major Roads</th>\n",
       "      <th>Total Street Miles</th>\n",
       "      <th>Street Density (st. mi/area sq. mi)</th>\n",
       "      <th># Sets of Steps</th>\n",
       "      <th># Step Treads</th>\n",
       "      <th>Res. Permit Parking Area(s)</th>\n",
       "      <th>Total Working Pop. (Age 16+) (2010)</th>\n",
       "      <th>Commute to Work: Drive Alone (2010)</th>\n",
       "      <th>Commute to Work: Carpool/Vanpool (2010)</th>\n",
       "      <th>Commute to Work: Public Transportation (2010)</th>\n",
       "      <th>Commute to Work: Taxi (2010)</th>\n",
       "      <th>Commute to Work: Motorcycle (2010)</th>\n",
       "      <th>Commute to Work: Bicycle (2010)</th>\n",
       "      <th>Commute to Work: Walk (2010)</th>\n",
       "      <th>Commute to Work: Other (2010)</th>\n",
       "      <th>Work at Home (2010)</th>\n",
       "    </tr>\n",
       "  </thead>\n",
       "  <tbody>\n",
       "    <tr>\n",
       "      <th>0</th>\n",
       "      <td>Allegheny Center</td>\n",
       "      <td>3</td>\n",
       "      <td>933</td>\n",
       "      <td>2.23</td>\n",
       "      <td>4.14</td>\n",
       "      <td>19.7</td>\n",
       "      <td>0</td>\n",
       "      <td>0</td>\n",
       "      <td>None</td>\n",
       "      <td>386</td>\n",
       "      <td>27.7%</td>\n",
       "      <td>9.8%</td>\n",
       "      <td>16.8%</td>\n",
       "      <td>0.0%</td>\n",
       "      <td>0.0%</td>\n",
       "      <td>0.0%</td>\n",
       "      <td>43.8%</td>\n",
       "      <td>0.0%</td>\n",
       "      <td>1.8%</td>\n",
       "    </tr>\n",
       "    <tr>\n",
       "      <th>1</th>\n",
       "      <td>Allegheny West</td>\n",
       "      <td>3</td>\n",
       "      <td>462</td>\n",
       "      <td>1.47</td>\n",
       "      <td>4.87</td>\n",
       "      <td>34.5</td>\n",
       "      <td>0</td>\n",
       "      <td>0</td>\n",
       "      <td>G</td>\n",
       "      <td>151</td>\n",
       "      <td>23.2%</td>\n",
       "      <td>20.5%</td>\n",
       "      <td>15.9%</td>\n",
       "      <td>14.6%</td>\n",
       "      <td>0.0%</td>\n",
       "      <td>0.0%</td>\n",
       "      <td>25.8%</td>\n",
       "      <td>0.0%</td>\n",
       "      <td>0.0%</td>\n",
       "    </tr>\n",
       "    <tr>\n",
       "      <th>2</th>\n",
       "      <td>Allentown</td>\n",
       "      <td>6</td>\n",
       "      <td>2,500</td>\n",
       "      <td>1.65</td>\n",
       "      <td>12.33</td>\n",
       "      <td>41.8</td>\n",
       "      <td>12</td>\n",
       "      <td>474</td>\n",
       "      <td>None</td>\n",
       "      <td>824</td>\n",
       "      <td>47.0%</td>\n",
       "      <td>10.9%</td>\n",
       "      <td>38.0%</td>\n",
       "      <td>0.0%</td>\n",
       "      <td>0.8%</td>\n",
       "      <td>0.0%</td>\n",
       "      <td>0.0%</td>\n",
       "      <td>1.5%</td>\n",
       "      <td>1.8%</td>\n",
       "    </tr>\n",
       "    <tr>\n",
       "      <th>3</th>\n",
       "      <td>Arlington</td>\n",
       "      <td>7</td>\n",
       "      <td>1,869</td>\n",
       "      <td>0.86</td>\n",
       "      <td>10.73</td>\n",
       "      <td>22.8</td>\n",
       "      <td>13</td>\n",
       "      <td>428</td>\n",
       "      <td>None</td>\n",
       "      <td>673</td>\n",
       "      <td>74.0%</td>\n",
       "      <td>7.3%</td>\n",
       "      <td>13.5%</td>\n",
       "      <td>0.0%</td>\n",
       "      <td>0.0%</td>\n",
       "      <td>0.0%</td>\n",
       "      <td>1.9%</td>\n",
       "      <td>0.9%</td>\n",
       "      <td>2.4%</td>\n",
       "    </tr>\n",
       "    <tr>\n",
       "      <th>4</th>\n",
       "      <td>Arlington Heights</td>\n",
       "      <td>7</td>\n",
       "      <td>244</td>\n",
       "      <td>0.00</td>\n",
       "      <td>1.09</td>\n",
       "      <td>8.2</td>\n",
       "      <td>0</td>\n",
       "      <td>0</td>\n",
       "      <td>None</td>\n",
       "      <td>72</td>\n",
       "      <td>11.1%</td>\n",
       "      <td>0.0%</td>\n",
       "      <td>88.9%</td>\n",
       "      <td>0.0%</td>\n",
       "      <td>0.0%</td>\n",
       "      <td>0.0%</td>\n",
       "      <td>0.0%</td>\n",
       "      <td>0.0%</td>\n",
       "      <td>0.0%</td>\n",
       "    </tr>\n",
       "  </tbody>\n",
       "</table>\n",
       "</div>"
      ],
      "text/plain": [
       "        Neighborhood  Sector # Population (2010)  Miles of Major Roads  \\\n",
       "0   Allegheny Center         3               933                  2.23   \n",
       "1     Allegheny West         3               462                  1.47   \n",
       "2          Allentown         6             2,500                  1.65   \n",
       "3          Arlington         7             1,869                  0.86   \n",
       "4  Arlington Heights         7               244                  0.00   \n",
       "\n",
       "   Total Street Miles  Street Density (st. mi/area sq. mi)  # Sets of Steps  \\\n",
       "0                4.14                                 19.7                0   \n",
       "1                4.87                                 34.5                0   \n",
       "2               12.33                                 41.8               12   \n",
       "3               10.73                                 22.8               13   \n",
       "4                1.09                                  8.2                0   \n",
       "\n",
       "  # Step Treads Res. Permit Parking Area(s)  \\\n",
       "0             0                        None   \n",
       "1             0                           G   \n",
       "2           474                        None   \n",
       "3           428                        None   \n",
       "4             0                        None   \n",
       "\n",
       "  Total Working Pop. (Age 16+) (2010) Commute to Work: Drive Alone (2010)  \\\n",
       "0                                 386                               27.7%   \n",
       "1                                 151                               23.2%   \n",
       "2                                 824                               47.0%   \n",
       "3                                 673                               74.0%   \n",
       "4                                  72                               11.1%   \n",
       "\n",
       "  Commute to Work: Carpool/Vanpool (2010)  \\\n",
       "0                                    9.8%   \n",
       "1                                   20.5%   \n",
       "2                                   10.9%   \n",
       "3                                    7.3%   \n",
       "4                                    0.0%   \n",
       "\n",
       "  Commute to Work: Public Transportation (2010) Commute to Work: Taxi (2010)  \\\n",
       "0                                         16.8%                         0.0%   \n",
       "1                                         15.9%                        14.6%   \n",
       "2                                         38.0%                         0.0%   \n",
       "3                                         13.5%                         0.0%   \n",
       "4                                         88.9%                         0.0%   \n",
       "\n",
       "  Commute to Work: Motorcycle (2010) Commute to Work: Bicycle (2010)  \\\n",
       "0                               0.0%                            0.0%   \n",
       "1                               0.0%                            0.0%   \n",
       "2                               0.8%                            0.0%   \n",
       "3                               0.0%                            0.0%   \n",
       "4                               0.0%                            0.0%   \n",
       "\n",
       "  Commute to Work: Walk (2010) Commute to Work: Other (2010)  \\\n",
       "0                        43.8%                          0.0%   \n",
       "1                        25.8%                          0.0%   \n",
       "2                         0.0%                          1.5%   \n",
       "3                         1.9%                          0.9%   \n",
       "4                         0.0%                          0.0%   \n",
       "\n",
       "  Work at Home (2010)  \n",
       "0                1.8%  \n",
       "1                0.0%  \n",
       "2                1.8%  \n",
       "3                2.4%  \n",
       "4                0.0%  "
      ]
     },
     "execution_count": 3,
     "metadata": {},
     "output_type": "execute_result"
    }
   ],
   "source": [
    "pgh_311_data = pd.read_csv(\"https://data.wprdc.org/datastore/dump/5d61b60b-bd25-4c33-8420-e31a9135ec6e\")\n",
    "                           \n",
    "pgh_311_data.head()\n"
   ]
  },
  {
   "cell_type": "code",
   "execution_count": null,
   "metadata": {},
   "outputs": [],
   "source": [
    "# Original DATA Pulled from WPRDC"
   ]
  },
  {
   "cell_type": "code",
   "execution_count": 4,
   "metadata": {},
   "outputs": [
    {
     "data": {
      "text/html": [
       "<div>\n",
       "<style scoped>\n",
       "    .dataframe tbody tr th:only-of-type {\n",
       "        vertical-align: middle;\n",
       "    }\n",
       "\n",
       "    .dataframe tbody tr th {\n",
       "        vertical-align: top;\n",
       "    }\n",
       "\n",
       "    .dataframe thead th {\n",
       "        text-align: right;\n",
       "    }\n",
       "</style>\n",
       "<table border=\"1\" class=\"dataframe\">\n",
       "  <thead>\n",
       "    <tr style=\"text-align: right;\">\n",
       "      <th></th>\n",
       "      <th>Commute to Work: Carpool/Vanpool (2010)</th>\n",
       "      <th>Neighborhood</th>\n",
       "    </tr>\n",
       "  </thead>\n",
       "  <tbody>\n",
       "    <tr>\n",
       "      <th>57</th>\n",
       "      <td>0.0%</td>\n",
       "      <td>Northview Heights</td>\n",
       "    </tr>\n",
       "    <tr>\n",
       "      <th>37</th>\n",
       "      <td>18.1%</td>\n",
       "      <td>Hays</td>\n",
       "    </tr>\n",
       "    <tr>\n",
       "      <th>31</th>\n",
       "      <td>14.7%</td>\n",
       "      <td>Fairywood</td>\n",
       "    </tr>\n",
       "    <tr>\n",
       "      <th>75</th>\n",
       "      <td>4.5%</td>\n",
       "      <td>Squirrel Hill North</td>\n",
       "    </tr>\n",
       "    <tr>\n",
       "      <th>69</th>\n",
       "      <td>2.8%</td>\n",
       "      <td>South Oakland</td>\n",
       "    </tr>\n",
       "    <tr>\n",
       "      <th>71</th>\n",
       "      <td>8.0%</td>\n",
       "      <td>South Side Flats</td>\n",
       "    </tr>\n",
       "    <tr>\n",
       "      <th>50</th>\n",
       "      <td>6.8%</td>\n",
       "      <td>Middle Hill</td>\n",
       "    </tr>\n",
       "    <tr>\n",
       "      <th>76</th>\n",
       "      <td>8.7%</td>\n",
       "      <td>Squirrel Hill South</td>\n",
       "    </tr>\n",
       "    <tr>\n",
       "      <th>18</th>\n",
       "      <td>8.1%</td>\n",
       "      <td>Central Northside</td>\n",
       "    </tr>\n",
       "    <tr>\n",
       "      <th>68</th>\n",
       "      <td>20.8%</td>\n",
       "      <td>Sheraden</td>\n",
       "    </tr>\n",
       "  </tbody>\n",
       "</table>\n",
       "</div>"
      ],
      "text/plain": [
       "   Commute to Work: Carpool/Vanpool (2010)         Neighborhood\n",
       "57                                    0.0%    Northview Heights\n",
       "37                                   18.1%                 Hays\n",
       "31                                   14.7%            Fairywood\n",
       "75                                    4.5%  Squirrel Hill North\n",
       "69                                    2.8%        South Oakland\n",
       "71                                    8.0%     South Side Flats\n",
       "50                                    6.8%          Middle Hill\n",
       "76                                    8.7%  Squirrel Hill South\n",
       "18                                    8.1%    Central Northside\n",
       "68                                   20.8%             Sheraden"
      ]
     },
     "execution_count": 4,
     "metadata": {},
     "output_type": "execute_result"
    }
   ],
   "source": [
    "df = pd.read_csv(\"https://data.wprdc.org/datastore/dump/5d61b60b-bd25-4c33-8420-e31a9135ec6e\")\n",
    "easy_data = df [['Commute to Work: Carpool/Vanpool (2010)', 'Neighborhood']]\n",
    "easy_data.sample(10)\n"
   ]
  },
  {
   "cell_type": "raw",
   "metadata": {},
   "source": [
    "Simplified Data \n",
    "\n",
    "The chart below is a more simplified version of the original one pulled from the WPRDC displaying 10 Neighborhoods and my metric of commuting to work by Carpool and their percentage rates. \n"
   ]
  },
  {
   "cell_type": "code",
   "execution_count": 5,
   "metadata": {},
   "outputs": [
    {
     "data": {
      "text/plain": [
       "<matplotlib.axes._subplots.AxesSubplot at 0x7f327aab5630>"
      ]
     },
     "execution_count": 5,
     "metadata": {},
     "output_type": "execute_result"
    },
    {
     "data": {
      "image/png": "[encoded data removed]",
      "text/plain": [
       "<Figure size 432x288 with 1 Axes>"
      ]
     },
     "metadata": {
      "needs_background": "light"
     },
     "output_type": "display_data"
    }
   ],
   "source": [
    "import matplotlib.pyplot as plt\n",
    "\n",
    "pgh_311_data = pd.read_csv(\"https://data.wprdc.org/datastore/dump/5d61b60b-bd25-4c33-8420-e31a9135ec6e\")\n",
    "\n",
    "pgh_311_data.head(10).plot.bar()"
   ]
  },
  {
   "cell_type": "raw",
   "metadata": {},
   "source": [
    "Metric Final analysis \n",
    "\n",
    " To determine the best neighborhood I gathered data from the WPDRC that focused on the means of transportation to work by each neighborhood. I then further narrowed my data into neighborhoods that had the highest carpool rates becuase carpool is enviromentally friendly in terms of air polution and came to the conclusion that Bon Air was the best neighborhood within the usage of my data with its 20.0% rate for carpooling. "
   ]
  }
 ],
 "metadata": {
  "kernelspec": {
   "display_name": "Python 3",
   "language": "python",
   "name": "python3"
  },
  "language_info": {
   "codemirror_mode": {
    "name": "ipython",
    "version": 3
   },
   "file_extension": ".py",
   "mimetype": "text/x-python",
   "name": "python",
   "nbconvert_exporter": "python",
   "pygments_lexer": "ipython3",
   "version": "3.6.7"
  }
 },
 "nbformat": 4,
 "nbformat_minor": 4
}
